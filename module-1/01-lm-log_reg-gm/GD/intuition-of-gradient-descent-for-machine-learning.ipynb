{
 "cells": [
  {
   "cell_type": "markdown",
   "metadata": {
    "_cell_guid": "ac87d46c-fc1a-4647-aca5-6f8f967bd3cc",
    "_uuid": "d6f30c21958594a117066415f8ea7eec3e4da844"
   },
   "source": [
    "# Intuition of Gradient Descent for Machine Learning"
   ]
  },
  {
   "cell_type": "markdown",
   "metadata": {
    "_cell_guid": "5b2795fd-d14b-41ef-a33f-efe752fefd40",
    "_uuid": "327beb8760a4c491c1e47208fbbb0de6f9195520"
   },
   "source": [
    "The most challenging part of Machine Learning is “optimization”. Gradient Descent is one of the most popular optimization algorithms used in Machine Learning. There are many powerful ML algorithms that use gradient descent such as linear regression, logistic regression, support vector machine (SVM) and neural networks.\n",
    "\n",
    "Many of us are already familiar with Gradient Descent but have bitter experience in understanding it. When we think about gradient descent, we remember the terrible mathematical formula and see some horrible pictures of the 3D surface plot in our eyes like the following - \n",
    "![](https://cdn-images-1.medium.com/max/800/1*9sd4Ve9DH-k4EcNba5fGTA.jpeg)\n",
    "\n",
    "How terrifying the picture is as well as it’s formulas! But, it is actually not like how it looks. It is very easy, interesting and very practical concept.\n",
    "\n",
    "So, let’s forget the terrifying plots, formulas and the bitter experiences and make a new start."
   ]
  },
  {
   "cell_type": "markdown",
   "metadata": {
    "_cell_guid": "2149ee2d-25e3-45eb-82c3-e0f4c6f22ed1",
    "_uuid": "94e68086f2de5c8114ab44068d64919b6b625a44"
   },
   "source": [
    "# Some Basic Real-World Concept:"
   ]
  },
  {
   "cell_type": "markdown",
   "metadata": {
    "_cell_guid": "9e0d10fb-a98b-4e55-9126-e8a6e028f121",
    "_uuid": "dd90f54dcdcd99ec51f6ffbaf9e5081d29f62643"
   },
   "source": [
    "Let’s say, we put a ball on the upper edge of a pond and give a little push on it, just like the following picture. Now, what will happen?\n",
    "![](https://cdn-images-1.medium.com/max/800/1*vR_oR6zPZvrIney6Qk7QCA.gif)\n",
    "As we know, there is a gravitational force on earth, so the ball will roll towards the lower region of the pond. It’ll keep rolling until it reaches the lowest point of the pond. In other words, we can say - *the ball will stop when it reaches the **minimum** point of the pond.*\n",
    "\n",
    "Now, let’s discuss some childhood mathematical concepts.\n",
    "\n",
    "Let, we have a function, $f(x) = x^2+5$, and we also have some values of $x$.\n",
    "\n",
    "$x = -6,-5,-4,-3,-2,-1,0,1,2,3,4,5,6$\n",
    "\n",
    "Now, our task is to find the minimum value of the function. \n",
    "That means, we need to find such an input value for the $x$ for which we’ll get the minimum output value from $y$.\n",
    "\n",
    "Now, let’s put all the given values of $x$ into the function and see the output values of $y$.\n",
    "\n",
    "| x| y =  f(x) = x^2+5| \n",
    "|:--: |:--:|\n",
    "|-6 |41|\n",
    "| -5|30|\n",
    "| -4|21|\n",
    "| -3|14|\n",
    "| -2|9|\n",
    "| -1|6|\n",
    "| 0|5|\n",
    "| 1|6|\n",
    "| 2|9 |\n",
    "| 3|14|\n",
    "| 4|21|\n",
    "| 5|30|\n",
    "| 6|41|\n",
    "\n",
    "From the table, we can see that when we put $0$ in $x$, we are getting the minimum value $5$ from $y$.\n",
    "\n",
    "We can write the above function and generate it’s output in Python code as below –"
   ]
  },
  {
   "cell_type": "code",
   "execution_count": 1,
   "metadata": {
    "_cell_guid": "88b2caa1-d9e0-4950-9597-bf3b8a431fee",
    "_uuid": "f5e8c7a12c1621e4ec35992481947244862e4843"
   },
   "outputs": [
    {
     "name": "stdout",
     "output_type": "stream",
     "text": [
      "[-6 -5 -4 -3 -2 -1  0  1  2  3  4  5  6]\n",
      "[41 30 21 14  9  6  5  6  9 14 21 30 41]\n"
     ]
    }
   ],
   "source": [
    "import numpy as np\n",
    "\n",
    "def func(x):\n",
    "    return x**2+5\n",
    "\n",
    "x = np.array([-6,-5,-4,-3,-2,-1,0,1,2,3,4,5,6])\n",
    "y = func(x)\n",
    "\n",
    "print(x)\n",
    "print(y)"
   ]
  },
  {
   "cell_type": "markdown",
   "metadata": {
    "_cell_guid": "4f4afc0b-71ee-4217-b16b-0c61d3845e30",
    "_uuid": "c5242c763783273475dd5ac0139515f042c33a37"
   },
   "source": [
    "Now let’s see, for the given values how the function looks like in graphical representation."
   ]
  },
  {
   "cell_type": "code",
   "execution_count": 2,
   "metadata": {
    "_cell_guid": "47aa68df-38d9-4827-b019-db0e9fa193f2",
    "_uuid": "5250aea52f6e1c9188f8db5d367cbe8065c769b5"
   },
   "outputs": [],
   "source": [
    "%matplotlib inline\n",
    "import matplotlib.pyplot as plt\n",
    "import seaborn as sns; sns.set()"
   ]
  },
  {
   "cell_type": "code",
   "execution_count": 3,
   "metadata": {
    "_cell_guid": "3bb993b2-7d1a-4019-8d16-9a58627cc812",
    "_uuid": "21f8c6aa3bfdd84a370ceabbef39196bad754a31"
   },
   "outputs": [
    {
     "data": {
      "image/png": "[encoded data removed]",
      "text/plain": [
       "<Figure size 432x288 with 1 Axes>"
      ]
     },
     "metadata": {},
     "output_type": "display_data"
    }
   ],
   "source": [
    "plt.plot(x,y,marker='o',color='b',linestyle='-');\n",
    "plt.plot(x, y, 'o', color='r');"
   ]
  },
  {
   "cell_type": "markdown",
   "metadata": {
    "_cell_guid": "5b22be2c-1a30-4e3a-955e-9601aaf35242",
    "_uuid": "ecd1bab9539e4e66f415335a6855573e4918020e"
   },
   "source": [
    "The most interesting fact here is, the plot looks same as the picture of the pond we’ve used above.\n",
    "\n",
    "That’s great! Our learning has become much easier. 🤘\n",
    "\n",
    "Now, if we put a ball on the upper edge of the plot and give a little push on it, as we done before in the pond picture. What will happen?\n",
    "![](https://cdn-images-1.medium.com/max/800/1*rIAgnyzvvBLyu87_R8ZzSA.png)\n",
    "Nothing will happen. Because the gravitational force works on earth, not on our plot. The ball will remain in the same position where it was put before. Then, how can we take the ball to the minimum point of the graph?\n",
    "\n",
    "To do this, we need to know 2 things-\n",
    "* **The direction of the slope (We can know this from the gradient.)**\n",
    "* **By how many units we need to roll. (We can set this value by our own.)**\n",
    "\n",
    "Now, it’s time to know about the Gradient Descent. Let’s see how can it help us."
   ]
  },
  {
   "cell_type": "markdown",
   "metadata": {
    "_cell_guid": "e822336b-c1ac-42dc-98d9-b05915bfa60b",
    "_uuid": "b064466ffa24dc075a0848d66035c51d6fa91ae5"
   },
   "source": [
    "# Gradient Descent:"
   ]
  },
  {
   "cell_type": "markdown",
   "metadata": {
    "_cell_guid": "8b69c3b2-0fe8-4c04-afde-b8653a62bb6b",
    "_uuid": "848f9b2e7ccec27d65ed094e6a1be8e32d269447"
   },
   "source": [
    "Gradient Descent is a first order iterative optimization algorithm that finds the minimum value of a function.\n",
    "\n",
    "We’ll know what it means by “first order” and “iterative” later.\n",
    "\n",
    "**The formula used in Gradient Descent:**\n",
    "\n",
    "**$x_{n+1} = x_n - \\gamma \\cdot \\nabla F(x_n)$**\n",
    "\n",
    "The formula will tell us the next position of the ball. It’ll tell us the direction of downward slope with the number of units to roll.\n",
    "You’ll find this formula written with different notation as follows –\n",
    "\n",
    "* **$\\theta_1 = \\theta_0 - \\alpha \\cdot f^{\\prime}(\\theta_0)$**\n",
    "* **$a_{n+1} = a_n - \\gamma \\cdot \\nabla F(a_n)$**\n",
    "\n",
    "Now, let’s learn the meaning of the notations used in the formula-\n",
    "* **$x_{n+1} =$  The new position. The direction of the downward slope with the number of units to roll.**\n",
    "* **$x_n  =$ The current position.**\n",
    "* **$\\gamma =$ Learning rate / step size. (We can set it by our own.)**\n",
    "* **$\\nabla F(x_n) =$ The gradient of function $F$ for the point $x_n$.**\n",
    "\n",
    "As we told before, we can set the value of **$\\gamma$ (Learning rate)** and we can also set the current position of $x$. The thing we need to think about is how to find **$\\nabla F(x_n)$**."
   ]
  },
  {
   "cell_type": "markdown",
   "metadata": {
    "_cell_guid": "902c29d9-861e-4d06-9e6c-8aa469a4d94b",
    "_uuid": "bb19e186130f10191e9ae104e48e0c29650dce7e"
   },
   "source": [
    "# Finding the gradient of a function:"
   ]
  },
  {
   "cell_type": "markdown",
   "metadata": {
    "_cell_guid": "cb166249-03b0-44d8-86c0-5b766f33d691",
    "_uuid": "3afa7a3c3d0920f96424b934fb262dd649ca1ebe"
   },
   "source": [
    "If we want to find the gradient of a function for a point $x$, we need to differentiate the function for once with respect to $x$.\n",
    "\n",
    "The result we’ll get by differentiating the function once is called the first order derivative of that function.\n",
    "\n",
    "So, let’s differentiate our function $f(x) = x^2+5$ and see what we get-\n",
    "\n",
    "$x\\_gradient = \\frac{d}{dx}\\cdot f(x)$\n",
    "\n",
    "$=> x\\_gradient = \\frac{d}{dx}  (x^2+5)$\n",
    "\n",
    "$=> x\\_gradient = 2x$\n",
    "\n",
    "If we’ve forgotten calculus, nothing to worry. The sympy package of Python can find the derivative of a function for us.\n",
    "\n",
    "In the following python code, the sympy package will find the derivative for our function $f(x) = x^2+5$."
   ]
  },
  {
   "cell_type": "code",
   "execution_count": 5,
   "metadata": {},
   "outputs": [
    {
     "name": "stdout",
     "output_type": "stream",
     "text": [
      "WARNING: pip is being invoked by an old script wrapper. This will fail in a future version of pip.\n",
      "Please see https://github.com/pypa/pip/issues/5599 for advice on fixing the underlying issue.\n",
      "To avoid this problem you can invoke Python with '-m pip' instead of running pip directly.\n",
      "Collecting sympy\n",
      "  Downloading sympy-1.7.1-py3-none-any.whl (5.9 MB)\n",
      "\u001b[K     |████████████████████████████████| 5.9 MB 2.3 MB/s eta 0:00:01     |█████████▊                      | 1.8 MB 1.6 MB/s eta 0:00:03\n",
      "\u001b[?25hCollecting mpmath>=0.19\n",
      "  Downloading mpmath-1.2.1-py3-none-any.whl (532 kB)\n",
      "\u001b[K     |████████████████████████████████| 532 kB 2.4 MB/s eta 0:00:01\n",
      "\u001b[?25hInstalling collected packages: mpmath, sympy\n",
      "\u001b[33m  WARNING: The script isympy is installed in '/Users/maximmigutin/Library/Python/3.8/bin' which is not on PATH.\n",
      "  Consider adding this directory to PATH or, if you prefer to suppress this warning, use --no-warn-script-location.\u001b[0m\n",
      "Successfully installed mpmath-1.2.1 sympy-1.7.1\n"
     ]
    }
   ],
   "source": [
    "# !pip3 install --user sympy"
   ]
  },
  {
   "cell_type": "code",
   "execution_count": 6,
   "metadata": {
    "_cell_guid": "0ed78f78-dd0c-4425-a1b3-52c120c2d78b",
    "_uuid": "245cf5cf8648d9ce2b07f4047c31a1c043f73d35"
   },
   "outputs": [
    {
     "name": "stdout",
     "output_type": "stream",
     "text": [
      "2*x\n"
     ]
    }
   ],
   "source": [
    "import sympy as sp\n",
    "\n",
    "x = sp.Symbol('x')\n",
    "\n",
    "f = x**2 + 5\n",
    "f_prime = f.diff(x)\n",
    "\n",
    "print(f_prime)"
   ]
  },
  {
   "cell_type": "markdown",
   "metadata": {
    "_cell_guid": "0ea1e382-470c-411b-8cbc-efc032f6c53f",
    "_uuid": "5fc32e5aef508630b74cd2a4e9289090c820e7de"
   },
   "source": [
    "You can ask, why do we need to take the first derivate?"
   ]
  },
  {
   "cell_type": "markdown",
   "metadata": {
    "_cell_guid": "90ccdf5c-a83d-4ac9-bda2-f679333250f0",
    "_uuid": "01f5ca729473a5c868e0940ad370f11881bb1c3f"
   },
   "source": [
    "# Reasons to take the first derivative:"
   ]
  },
  {
   "cell_type": "markdown",
   "metadata": {
    "_cell_guid": "e1f32aba-29a2-4d74-862a-80d8ca2d30e8",
    "_uuid": "5d41338ca02b955f711b6ea1695b9f1b97ceb7f6"
   },
   "source": [
    "* **The first derivative tells us the direction of the function, whether the function is increasing or decreasing.**\n",
    "* **The first derivative also tells us about the slope of the function.**\n",
    "\n",
    "Now, let’s understand why we call the gradient descent algorithm iterative. The formula for gradient descent we discussed above tells us the direction and number of units to roll for the next position. But we can’t reach the minimum point by rolling the ball once. We need to roll the ball for a certain number of times. We need to repeat the process until we achieve the convergence. That’s why we need to use a loop to repeat the process.\n",
    "\n",
    "Let’s write the formula of the algorithm in a bit more nice way-\n",
    "\n",
    "Repeat until convergence\n",
    "\\{\n",
    "\n",
    "&nbsp;&nbsp;&nbsp;&nbsp;&nbsp;&nbsp; $x_{n+1} = x_n - \\gamma \\cdot \\nabla F(x_n)$\n",
    "\n",
    "\\}\n",
    "\n",
    "Finally, we’ve known all the concepts that we need to write the code for gradient descent.\n",
    "\n",
    "Let’s code the gradient descent quickly-\n",
    "\n",
    "* We’ll set 0.001 as the value of $\\gamma$ (gamma). If we set the value of learning rate larger, there is a chance to overtake the minimum point. That’s why we’ll take a good value for $\\gamma$ which is $0.001$.\n",
    "\n",
    "* Now, we need to set our starting point. That means we need to set an initial value for $x$, from where we’ll start rolling the ball.We’ll set the initial point $x = 6$.\n",
    "\n",
    "* Finally, we need to set the number of iterations for the repeating process. We’ll set it to $5000$."
   ]
  },
  {
   "cell_type": "code",
   "execution_count": 7,
   "metadata": {
    "_cell_guid": "33078019-c7cb-4d4e-ab18-325a6ba84c81",
    "_uuid": "f3746f8fe4f29dd65655caaee022ca2f56f5d447"
   },
   "outputs": [
    {
     "name": "stdout",
     "output_type": "stream",
     "text": [
      "iterations = 5000 \n",
      "x =  0.00026968555624761565\n"
     ]
    }
   ],
   "source": [
    "gamma = 0.001  \n",
    "x = 6\n",
    "iterations = 5000\n",
    "    \n",
    "for i in range(0,iterations):\n",
    "    x_gradient = 2*x\n",
    "    x1 = x - gamma * x_gradient\n",
    "    x = x1\n",
    "        \n",
    "print(\"iterations =\",iterations,\"\\nx = \",x)"
   ]
  },
  {
   "cell_type": "markdown",
   "metadata": {
    "_cell_guid": "3764f277-86bc-4a53-9913-d8eec23f0268",
    "_uuid": "55df258cd37a094192077286ba5e8173664ac6dc"
   },
   "source": [
    "Here we see that after $5000$ iterations we get a value of $0.00026968555624761565$ for $x$ which is very close to $0$. Actually, if we convert it to an integer, it’ll turn into $0$. So, we’ve got out expected minimum value $0$ for $x$ which will cause the function output the minimum value $5$.\n",
    "\n",
    "Now if we look at the plot, we’ll see the ball is rolling down and reaches the minimum point of the plot.\n",
    "\n",
    "![](https://cdn-images-1.medium.com/max/800/1*pmFcmUAjtvRH8_rEDxaDeA.gif)\n",
    "\n",
    "This is the intuition behind gradient descent algorithm.\n",
    "\n",
    "In this article, I’ve used a simple function with one parameter. But to feel the real advantage of gradient descent, we need to work with multiple parameterized function. In the next article, I’ll show how can we use gradient descent to minimize the error of Linear Regression. There we’ll work with multiple parameters.\n",
    "\n",
    "Till then practice what you’ve learnt from this article. 😀"
   ]
  }
 ],
 "metadata": {
  "hide_input": false,
  "kernelspec": {
   "display_name": "Python 3",
   "language": "python",
   "name": "python3"
  },
  "language_info": {
   "codemirror_mode": {
    "name": "ipython",
    "version": 3
   },
   "file_extension": ".py",
   "mimetype": "text/x-python",
   "name": "python",
   "nbconvert_exporter": "python",
   "pygments_lexer": "ipython3",
   "version": "3.8.2"
  },
  "toc": {
   "base_numbering": 1,
   "nav_menu": {},
   "number_sections": true,
   "sideBar": true,
   "skip_h1_title": false,
   "title_cell": "Table of Contents",
   "title_sidebar": "Contents",
   "toc_cell": false,
   "toc_position": {},
   "toc_section_display": true,
   "toc_window_display": false
  },
  "varInspector": {
   "cols": {
    "lenName": 16,
    "lenType": 16,
    "lenVar": 40
   },
   "kernels_config": {
    "python": {
     "delete_cmd_postfix": "",
     "delete_cmd_prefix": "del ",
     "library": "var_list.py",
     "varRefreshCmd": "print(var_dic_list())"
    },
    "r": {
     "delete_cmd_postfix": ") ",
     "delete_cmd_prefix": "rm(",
     "library": "var_list.r",
     "varRefreshCmd": "cat(var_dic_list()) "
    }
   },
   "types_to_exclude": [
    "module",
    "function",
    "builtin_function_or_method",
    "instance",
    "_Feature"
   ],
   "window_display": false
  }
 },
 "nbformat": 4,
 "nbformat_minor": 1
}
