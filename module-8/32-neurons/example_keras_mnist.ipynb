{
  "nbformat": 4,
  "nbformat_minor": 0,
  "metadata": {
    "colab": {
      "name": "example_keras_mnist.ipynb",
      "private_outputs": true,
      "provenance": [],
      "collapsed_sections": [],
      "toc_visible": true
    },
    "kernelspec": {
      "display_name": "Python 3",
      "name": "python3"
    },
    "language_info": {
      "codemirror_mode": {
        "name": "ipython",
        "version": 3
      },
      "file_extension": ".py",
      "mimetype": "text/x-python",
      "name": "python",
      "nbconvert_exporter": "python",
      "pygments_lexer": "ipython3",
      "version": "3.6.9"
    },
    "accelerator": "GPU"
  },
  "cells": [
    {
      "cell_type": "markdown",
      "metadata": {
        "id": "USSV_OlCFKOD"
      },
      "source": [
        "# Training a CNN on MNIST with Keras\n",
        "\n",
        "Now import TensorFlow and the module dependencies:\n"
      ]
    },
    {
      "cell_type": "code",
      "metadata": {
        "execution": {
          "iopub.execute_input": "2021-02-11T12:15:34.642515Z",
          "iopub.status.busy": "2021-02-11T12:15:34.641830Z",
          "iopub.status.idle": "2021-02-11T12:15:41.465826Z",
          "shell.execute_reply": "2021-02-11T12:15:41.466229Z"
        },
        "id": "TTBSvHcSLBzc"
      },
      "source": [
        "import tensorflow as tf\n",
        "import tensorflow_datasets as tfds\n",
        "\n",
        "import numpy as np\n",
        "import seaborn as sns\n",
        "import collections\n",
        "\n",
        "# visualization tools\n",
        "%matplotlib inline\n",
        "import matplotlib.pyplot as plt"
      ],
      "execution_count": null,
      "outputs": []
    },
    {
      "cell_type": "markdown",
      "metadata": {
        "id": "c3aH3vP_XLI8"
      },
      "source": [
        "### Load MNIST\n",
        "\n",
        "Load the MNIST dataset distributed with Keras. "
      ]
    },
    {
      "cell_type": "code",
      "metadata": {
        "execution": {
          "iopub.execute_input": "2021-02-11T12:15:41.471133Z",
          "iopub.status.busy": "2021-02-11T12:15:41.470525Z",
          "iopub.status.idle": "2021-02-11T12:15:42.297991Z",
          "shell.execute_reply": "2021-02-11T12:15:42.298476Z"
        },
        "id": "ZUMhCXhFXdHQ"
      },
      "source": [
        "(x_train, y_train), (x_test, y_test) = tf.keras.datasets.mnist.load_data()\n",
        "\n",
        "# Rescale the images from [0,255] to the [0.0,1.0] range.\n",
        "x_train = x_train.reshape((x_train.shape[0], 28, 28, 1))\n",
        "x_test = x_test.reshape((x_test.shape[0], 28, 28, 1))\n",
        "\n",
        "print(\"Number of original training examples:\", len(x_train))\n",
        "print(\"Number of original test examples:\", len(x_test))"
      ],
      "execution_count": null,
      "outputs": []
    },
    {
      "cell_type": "code",
      "metadata": {
        "id": "9zoL4sJPBSND"
      },
      "source": [
        "\t# convert from integers to floats\n",
        "\tx_train = x_train.astype('float32')\n",
        "\tx_test = x_test.astype('float32')\n",
        "\t# normalize to range 0-1\n",
        "\tx_train = x_train / 255.0\n",
        "\tx_test = x_test / 255.0"
      ],
      "execution_count": null,
      "outputs": []
    },
    {
      "cell_type": "code",
      "metadata": {
        "id": "LiRdKeUB8Qwz"
      },
      "source": [
        "# one hot encode target varlues\n",
        "y_train = tf.keras.utils.to_categorical(y_train)\n",
        "y_test = tf.keras.utils.to_categorical(y_test)"
      ],
      "execution_count": null,
      "outputs": []
    },
    {
      "cell_type": "markdown",
      "metadata": {
        "id": "rgwCFAcWXQTx"
      },
      "source": [
        "Show the first example:"
      ]
    },
    {
      "cell_type": "code",
      "metadata": {
        "execution": {
          "iopub.execute_input": "2021-02-11T12:15:42.306555Z",
          "iopub.status.busy": "2021-02-11T12:15:42.305871Z",
          "iopub.status.idle": "2021-02-11T12:15:42.344708Z",
          "shell.execute_reply": "2021-02-11T12:15:42.345122Z"
        },
        "id": "haykx2K9XgiI"
      },
      "source": [
        "print(y_train[0])\n",
        "\n",
        "plt.imshow(x_train[0, :, :, 0])\n",
        "plt.colorbar()"
      ],
      "execution_count": null,
      "outputs": []
    },
    {
      "cell_type": "markdown",
      "metadata": {
        "id": "nTFoji3INMEM"
      },
      "source": [
        "## Step 2: Create and train the model\n",
        "\n",
        "Plug the input pipeline into Keras."
      ]
    },
    {
      "cell_type": "markdown",
      "metadata": {
        "id": "QWmfBeE92clJ"
      },
      "source": [
        "Вопросы:\n",
        "1. Можно ли изменить количество нейронов во входных и выходных слоев? \n",
        "2. Какой тип нейронной сети применяется?\n",
        "\n",
        "Задачи:\n",
        "1.   Добавить еще один скрытый слой в архитектуру CNN\n",
        "2.   Изменить шаг и посмотреть на сколько результат меняется\n",
        "3.   Вывести на экран архитектуру сети (model.summary())\n",
        "\n"
      ]
    },
    {
      "cell_type": "code",
      "metadata": {
        "execution": {
          "iopub.execute_input": "2021-02-11T12:15:42.377802Z",
          "iopub.status.busy": "2021-02-11T12:15:42.377120Z",
          "iopub.status.idle": "2021-02-11T12:15:51.609821Z",
          "shell.execute_reply": "2021-02-11T12:15:51.610232Z"
        },
        "id": "XWqxdmS1NLKA"
      },
      "source": [
        "model = tf.keras.models.Sequential([\n",
        "    tf.keras.layers.Conv2D(32, [3, 3], activation='relu', input_shape=(28,28,1)),\n",
        "    tf.keras.layers.Conv2D(64, [3, 3], activation='relu'),\n",
        "    tf.keras.layers.MaxPooling2D(pool_size=(2, 2)),\n",
        "    tf.keras.layers.Dropout(0.25),\n",
        "    tf.keras.layers.Flatten(),\n",
        "    tf.keras.layers.Dense(128, activation='relu'),\n",
        "    tf.keras.layers.Dropout(0.5),\n",
        "    tf.keras.layers.Dense(10, activation='softmax')\n",
        "])\n",
        "\n",
        "model.compile(loss='categorical_crossentropy',\n",
        "              optimizer=tf.keras.optimizers.Adam(),\n",
        "              metrics=['accuracy'])\n"
      ],
      "execution_count": null,
      "outputs": []
    },
    {
      "cell_type": "code",
      "metadata": {
        "id": "-FEHPXK145cx"
      },
      "source": [
        "history = model.fit(x_train,\n",
        "          y_train,\n",
        "          batch_size=128,\n",
        "          epochs=2,\n",
        "          verbose=0,\n",
        "          validation_data=(x_test, y_test))\n",
        "\n",
        "cnn_results = model.evaluate(x_test, y_test)\n"
      ],
      "execution_count": null,
      "outputs": []
    },
    {
      "cell_type": "code",
      "metadata": {
        "id": "vwfR23XL7jpS"
      },
      "source": [
        "# plotting the metrics\n",
        "fig = plt.figure()\n",
        "plt.subplot(2,1,1)\n",
        "plt.plot(history.history['accuracy'])\n",
        "plt.plot(history.history['val_accuracy'])\n",
        "plt.title('model accuracy')\n",
        "plt.ylabel('accuracy')\n",
        "plt.xlabel('epoch')\n",
        "plt.legend(['train', 'test'], loc='lower right')\n",
        "\n",
        "plt.subplot(2,1,2)\n",
        "plt.plot(history.history['loss'])\n",
        "plt.plot(history.history['val_loss'])\n",
        "plt.title('model loss')\n",
        "plt.ylabel('loss')\n",
        "plt.xlabel('epoch')\n",
        "plt.legend(['train', 'test'], loc='upper right')\n",
        "\n",
        "plt.tight_layout()"
      ],
      "execution_count": null,
      "outputs": []
    },
    {
      "cell_type": "code",
      "metadata": {
        "id": "j3Fjm3QTDodB"
      },
      "source": [
        "loss_and_metrics = model.evaluate(x_test, y_test, verbose=2)\n",
        "\n",
        "print(\"Test Loss\", loss_and_metrics[0])\n",
        "print(\"Test Accuracy\", loss_and_metrics[1])"
      ],
      "execution_count": null,
      "outputs": []
    },
    {
      "cell_type": "code",
      "metadata": {
        "id": "MUgqH7lnEsrg"
      },
      "source": [
        ""
      ],
      "execution_count": null,
      "outputs": []
    }
  ]
}