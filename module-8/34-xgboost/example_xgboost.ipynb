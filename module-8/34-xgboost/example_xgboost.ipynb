{
  "nbformat": 4,
  "nbformat_minor": 0,
  "metadata": {
    "colab": {
      "name": "example_xgboost.ipynb",
      "provenance": [],
      "collapsed_sections": []
    },
    "kernelspec": {
      "name": "python3",
      "display_name": "Python 3"
    },
    "language_info": {
      "name": "python"
    },
    "accelerator": "GPU"
  },
  "cells": [
    {
      "cell_type": "markdown",
      "metadata": {
        "id": "CAJV1oIN-gAy"
      },
      "source": [
        "## Загрузка бибилиотек"
      ]
    },
    {
      "cell_type": "code",
      "metadata": {
        "id": "0DqEsDqm1ENW"
      },
      "source": [
        "import numpy as np\n",
        "import pandas as pd\n",
        "import xgboost as xgb\n",
        "from sklearn.metrics import accuracy_score, f1_score\n",
        "from sklearn.model_selection import train_test_split\n",
        "from sklearn.preprocessing import LabelEncoder"
      ],
      "execution_count": 2,
      "outputs": []
    },
    {
      "cell_type": "markdown",
      "metadata": {
        "id": "W3uUsVA6_SlY"
      },
      "source": [
        "### Загрузка и подготовка данных\n",
        "\n",
        "Посмотрим на примере данных по оттоку клиентов из телеком-компании.\n",
        "\n",
        "    Важно: XGBoost поддерживает только числовые признаки. Поэтому текстовые признаки требуют предобработки\n",
        "\n",
        "Для обучения с Xgboost данные должны быть представлены в виде объекта DMatrix, предназначенного для представления разреженных данных. Его можно инициализировать через:\n",
        "\n",
        "- текстовый формат libsvm,\n",
        "- Numpy 2D array (чаще всего)\n",
        "- бинарный буфер-файл XGBoost\n",
        "\n",
        "Загрузим данные и осуществим минимальную предобработку.\n"
      ]
    },
    {
      "cell_type": "code",
      "metadata": {
        "id": "rKiXCHLr1Sfn"
      },
      "source": [
        "df = pd.read_csv(\"https://raw.githubusercontent.com/OtusTeam/Bigdata-ML/master/module-8/34-xgboost/telecom_churn.csv\")"
      ],
      "execution_count": 3,
      "outputs": []
    },
    {
      "cell_type": "code",
      "metadata": {
        "colab": {
          "base_uri": "https://localhost:8080/",
          "height": 241
        },
        "id": "vIjuayrn-BKc",
        "outputId": "096449db-fe74-44f6-d5f2-5048e3b127ba"
      },
      "source": [
        "df.head()"
      ],
      "execution_count": 4,
      "outputs": [
        {
          "output_type": "execute_result",
          "data": {
            "text/html": [
              "<div>\n",
              "<style scoped>\n",
              "    .dataframe tbody tr th:only-of-type {\n",
              "        vertical-align: middle;\n",
              "    }\n",
              "\n",
              "    .dataframe tbody tr th {\n",
              "        vertical-align: top;\n",
              "    }\n",
              "\n",
              "    .dataframe thead th {\n",
              "        text-align: right;\n",
              "    }\n",
              "</style>\n",
              "<table border=\"1\" class=\"dataframe\">\n",
              "  <thead>\n",
              "    <tr style=\"text-align: right;\">\n",
              "      <th></th>\n",
              "      <th>State</th>\n",
              "      <th>Account length</th>\n",
              "      <th>Area code</th>\n",
              "      <th>International plan</th>\n",
              "      <th>Voice mail plan</th>\n",
              "      <th>Number vmail messages</th>\n",
              "      <th>Total day minutes</th>\n",
              "      <th>Total day calls</th>\n",
              "      <th>Total day charge</th>\n",
              "      <th>Total eve minutes</th>\n",
              "      <th>Total eve calls</th>\n",
              "      <th>Total eve charge</th>\n",
              "      <th>Total night minutes</th>\n",
              "      <th>Total night calls</th>\n",
              "      <th>Total night charge</th>\n",
              "      <th>Total intl minutes</th>\n",
              "      <th>Total intl calls</th>\n",
              "      <th>Total intl charge</th>\n",
              "      <th>Customer service calls</th>\n",
              "      <th>Churn</th>\n",
              "    </tr>\n",
              "  </thead>\n",
              "  <tbody>\n",
              "    <tr>\n",
              "      <th>0</th>\n",
              "      <td>KS</td>\n",
              "      <td>128</td>\n",
              "      <td>415</td>\n",
              "      <td>No</td>\n",
              "      <td>Yes</td>\n",
              "      <td>25</td>\n",
              "      <td>265.1</td>\n",
              "      <td>110</td>\n",
              "      <td>45.07</td>\n",
              "      <td>197.4</td>\n",
              "      <td>99</td>\n",
              "      <td>16.78</td>\n",
              "      <td>244.7</td>\n",
              "      <td>91</td>\n",
              "      <td>11.01</td>\n",
              "      <td>10.0</td>\n",
              "      <td>3</td>\n",
              "      <td>2.70</td>\n",
              "      <td>1</td>\n",
              "      <td>False</td>\n",
              "    </tr>\n",
              "    <tr>\n",
              "      <th>1</th>\n",
              "      <td>OH</td>\n",
              "      <td>107</td>\n",
              "      <td>415</td>\n",
              "      <td>No</td>\n",
              "      <td>Yes</td>\n",
              "      <td>26</td>\n",
              "      <td>161.6</td>\n",
              "      <td>123</td>\n",
              "      <td>27.47</td>\n",
              "      <td>195.5</td>\n",
              "      <td>103</td>\n",
              "      <td>16.62</td>\n",
              "      <td>254.4</td>\n",
              "      <td>103</td>\n",
              "      <td>11.45</td>\n",
              "      <td>13.7</td>\n",
              "      <td>3</td>\n",
              "      <td>3.70</td>\n",
              "      <td>1</td>\n",
              "      <td>False</td>\n",
              "    </tr>\n",
              "    <tr>\n",
              "      <th>2</th>\n",
              "      <td>NJ</td>\n",
              "      <td>137</td>\n",
              "      <td>415</td>\n",
              "      <td>No</td>\n",
              "      <td>No</td>\n",
              "      <td>0</td>\n",
              "      <td>243.4</td>\n",
              "      <td>114</td>\n",
              "      <td>41.38</td>\n",
              "      <td>121.2</td>\n",
              "      <td>110</td>\n",
              "      <td>10.30</td>\n",
              "      <td>162.6</td>\n",
              "      <td>104</td>\n",
              "      <td>7.32</td>\n",
              "      <td>12.2</td>\n",
              "      <td>5</td>\n",
              "      <td>3.29</td>\n",
              "      <td>0</td>\n",
              "      <td>False</td>\n",
              "    </tr>\n",
              "    <tr>\n",
              "      <th>3</th>\n",
              "      <td>OH</td>\n",
              "      <td>84</td>\n",
              "      <td>408</td>\n",
              "      <td>Yes</td>\n",
              "      <td>No</td>\n",
              "      <td>0</td>\n",
              "      <td>299.4</td>\n",
              "      <td>71</td>\n",
              "      <td>50.90</td>\n",
              "      <td>61.9</td>\n",
              "      <td>88</td>\n",
              "      <td>5.26</td>\n",
              "      <td>196.9</td>\n",
              "      <td>89</td>\n",
              "      <td>8.86</td>\n",
              "      <td>6.6</td>\n",
              "      <td>7</td>\n",
              "      <td>1.78</td>\n",
              "      <td>2</td>\n",
              "      <td>False</td>\n",
              "    </tr>\n",
              "    <tr>\n",
              "      <th>4</th>\n",
              "      <td>OK</td>\n",
              "      <td>75</td>\n",
              "      <td>415</td>\n",
              "      <td>Yes</td>\n",
              "      <td>No</td>\n",
              "      <td>0</td>\n",
              "      <td>166.7</td>\n",
              "      <td>113</td>\n",
              "      <td>28.34</td>\n",
              "      <td>148.3</td>\n",
              "      <td>122</td>\n",
              "      <td>12.61</td>\n",
              "      <td>186.9</td>\n",
              "      <td>121</td>\n",
              "      <td>8.41</td>\n",
              "      <td>10.1</td>\n",
              "      <td>3</td>\n",
              "      <td>2.73</td>\n",
              "      <td>3</td>\n",
              "      <td>False</td>\n",
              "    </tr>\n",
              "  </tbody>\n",
              "</table>\n",
              "</div>"
            ],
            "text/plain": [
              "  State  Account length  ...  Customer service calls  Churn\n",
              "0    KS             128  ...                       1  False\n",
              "1    OH             107  ...                       1  False\n",
              "2    NJ             137  ...                       0  False\n",
              "3    OH              84  ...                       2  False\n",
              "4    OK              75  ...                       3  False\n",
              "\n",
              "[5 rows x 20 columns]"
            ]
          },
          "metadata": {
            "tags": []
          },
          "execution_count": 4
        }
      ]
    },
    {
      "cell_type": "markdown",
      "metadata": {
        "id": "xrjHnV_MDjT_"
      },
      "source": [
        "Штаты просто занумеруем (хотя можно и лучше поступить), а признаки International plan (наличие международного роуминга), Voice mail plan (наличие голосовой почтыы) и целевой Churn сделаем бинарными."
      ]
    },
    {
      "cell_type": "code",
      "metadata": {
        "id": "2_CR7rEH-C5H"
      },
      "source": [
        "state_enc = LabelEncoder()\n",
        "df[\"State\"] = state_enc.fit_transform(df[\"State\"])\n",
        "df[\"International plan\"] = (df[\"International plan\"] == \"Yes\").astype(\"int\")\n",
        "df[\"Voice mail plan\"] = (df[\"Voice mail plan\"] == \"Yes\").astype(\"int\")\n",
        "df[\"Churn\"] = (df[\"Churn\"]).astype(\"int\")"
      ],
      "execution_count": 5,
      "outputs": []
    },
    {
      "cell_type": "markdown",
      "metadata": {
        "id": "s6NcoEgREBCk"
      },
      "source": [
        "Разделим данные на обучающую и тестовую выборки в отношении 8:2. Инициализируем соответственно на объекты DMatrix dtrain и dtest."
      ]
    },
    {
      "cell_type": "code",
      "metadata": {
        "id": "B1B1ewk2D8kn"
      },
      "source": [
        "X_train, X_test, y_train, y_test = train_test_split(\n",
        "    df.drop(\"Churn\", axis=1),\n",
        "    df[\"Churn\"],\n",
        "    test_size=0.2,\n",
        "    stratify=df[\"Churn\"],\n",
        "    random_state=17,\n",
        ")\n",
        "dtrain = xgb.DMatrix(X_train, y_train)\n",
        "dtest = xgb.DMatrix(X_test, y_test)"
      ],
      "execution_count": 6,
      "outputs": []
    },
    {
      "cell_type": "markdown",
      "metadata": {
        "id": "0DC-CJXgEM-Z"
      },
      "source": [
        "Посмотрим на статистику полученных объектов:"
      ]
    },
    {
      "cell_type": "code",
      "metadata": {
        "colab": {
          "base_uri": "https://localhost:8080/"
        },
        "id": "ZxPmPWnJEMa-",
        "outputId": "9838683b-4769-4095-e2c6-8c950ac97c33"
      },
      "source": [
        "print(\n",
        "    \"Train dataset contains {0} rows and {1} columns\".format(\n",
        "        dtrain.num_row(), dtrain.num_col()\n",
        "    )\n",
        ")\n",
        "print(\n",
        "    \"Test dataset contains {0} rows and {1} columns\".format(\n",
        "        dtest.num_row(), dtest.num_col()\n",
        "    )\n",
        ")"
      ],
      "execution_count": 7,
      "outputs": [
        {
          "output_type": "stream",
          "text": [
            "Train dataset contains 2666 rows and 19 columns\n",
            "Test dataset contains 667 rows and 19 columns\n"
          ],
          "name": "stdout"
        }
      ]
    },
    {
      "cell_type": "code",
      "metadata": {
        "id": "6LPDkFDvEKkI",
        "colab": {
          "base_uri": "https://localhost:8080/"
        },
        "outputId": "69eb943d-eca6-4529-bef0-32546499fcbd"
      },
      "source": [
        "print(\"Train mean target: \")\n",
        "print(np.mean(dtrain.get_label()))\n",
        "\n",
        "print(\"\\nTest mean target: \")\n",
        "print(np.mean(dtest.get_label()))"
      ],
      "execution_count": 8,
      "outputs": [
        {
          "output_type": "stream",
          "text": [
            "Train mean target: \n",
            "0.1447862\n",
            "\n",
            "Test mean target: \n",
            "0.14542729\n"
          ],
          "name": "stdout"
        }
      ]
    },
    {
      "cell_type": "markdown",
      "metadata": {
        "id": "KzKTiptoVrWH"
      },
      "source": [
        "\n",
        "### Инициализация параметров\n",
        "\n",
        "- бинарная классификация ('objective':'binary:logistic')\n",
        "- ограничим глубину деревьев ('max_depth':3)\n",
        "- не хотим лишнего вывода ('silent':1)\n",
        "- проведем 50 итераций бустинга\n",
        "- шаг градиентного спуска довольно большой ('eta':1) - алгоритм будет обучаться быстро и \"агрессивно\" (лучше результаты будут, если уменьшить eta и увеличить число итераций)\n",
        "\n"
      ]
    },
    {
      "cell_type": "code",
      "metadata": {
        "id": "2ym5ScbEVSN4"
      },
      "source": [
        "params = {\"objective\": \"binary:logistic\", \"max_depth\": 3, \"silent\": 1, \"eta\": 1}\n",
        "\n",
        "num_rounds = 50"
      ],
      "execution_count": 9,
      "outputs": []
    },
    {
      "cell_type": "markdown",
      "metadata": {
        "id": "AjYXVY9KV9x8"
      },
      "source": [
        "### Обучение классификатора\n",
        "\n",
        "Тут мы просто передаем слоавть параметров, данные и число итераций."
      ]
    },
    {
      "cell_type": "code",
      "metadata": {
        "id": "ZnDVbDeZV7ig"
      },
      "source": [
        "xgb_model = xgb.train(params, dtrain, num_rounds)"
      ],
      "execution_count": 10,
      "outputs": []
    },
    {
      "cell_type": "markdown",
      "metadata": {
        "id": "cQCH3LmmWOHc"
      },
      "source": [
        "С помощью watchlist отслеживать качество алгоритма на тестовой выборке для каждой итерации."
      ]
    },
    {
      "cell_type": "code",
      "metadata": {
        "colab": {
          "base_uri": "https://localhost:8080/"
        },
        "id": "3u5F0hR5WMQj",
        "outputId": "31d66d53-7b36-4d0b-c70c-66c034d3c2d3"
      },
      "source": [
        "watchlist = [(dtest, \"test\"), (dtrain, \"train\")]  # native interface only\n",
        "xgb_model = xgb.train(params, dtrain, num_rounds, watchlist)"
      ],
      "execution_count": 11,
      "outputs": [
        {
          "output_type": "stream",
          "text": [
            "[0]\ttest-error:0.109445\ttrain-error:0.088897\n",
            "[1]\ttest-error:0.110945\ttrain-error:0.076519\n",
            "[2]\ttest-error:0.071964\ttrain-error:0.049887\n",
            "[3]\ttest-error:0.074963\ttrain-error:0.046887\n",
            "[4]\ttest-error:0.071964\ttrain-error:0.042386\n",
            "[5]\ttest-error:0.070465\ttrain-error:0.04126\n",
            "[6]\ttest-error:0.068966\ttrain-error:0.03901\n",
            "[7]\ttest-error:0.068966\ttrain-error:0.039385\n",
            "[8]\ttest-error:0.070465\ttrain-error:0.03901\n",
            "[9]\ttest-error:0.070465\ttrain-error:0.034134\n",
            "[10]\ttest-error:0.068966\ttrain-error:0.033383\n",
            "[11]\ttest-error:0.071964\ttrain-error:0.032633\n",
            "[12]\ttest-error:0.071964\ttrain-error:0.031508\n",
            "[13]\ttest-error:0.067466\ttrain-error:0.031133\n",
            "[14]\ttest-error:0.073463\ttrain-error:0.028882\n",
            "[15]\ttest-error:0.073463\ttrain-error:0.028507\n",
            "[16]\ttest-error:0.065967\ttrain-error:0.026257\n",
            "[17]\ttest-error:0.064468\ttrain-error:0.025881\n",
            "[18]\ttest-error:0.067466\ttrain-error:0.027007\n",
            "[19]\ttest-error:0.067466\ttrain-error:0.026257\n",
            "[20]\ttest-error:0.068966\ttrain-error:0.025881\n",
            "[21]\ttest-error:0.067466\ttrain-error:0.024381\n",
            "[22]\ttest-error:0.073463\ttrain-error:0.024756\n",
            "[23]\ttest-error:0.073463\ttrain-error:0.022506\n",
            "[24]\ttest-error:0.068966\ttrain-error:0.021005\n",
            "[25]\ttest-error:0.064468\ttrain-error:0.02063\n",
            "[26]\ttest-error:0.064468\ttrain-error:0.018755\n",
            "[27]\ttest-error:0.067466\ttrain-error:0.01838\n",
            "[28]\ttest-error:0.070465\ttrain-error:0.015754\n",
            "[29]\ttest-error:0.071964\ttrain-error:0.016879\n",
            "[30]\ttest-error:0.071964\ttrain-error:0.016129\n",
            "[31]\ttest-error:0.068966\ttrain-error:0.015379\n",
            "[32]\ttest-error:0.071964\ttrain-error:0.014254\n",
            "[33]\ttest-error:0.077961\ttrain-error:0.013878\n",
            "[34]\ttest-error:0.074963\ttrain-error:0.013503\n",
            "[35]\ttest-error:0.074963\ttrain-error:0.012378\n",
            "[36]\ttest-error:0.068966\ttrain-error:0.013503\n",
            "[37]\ttest-error:0.071964\ttrain-error:0.011628\n",
            "[38]\ttest-error:0.068966\ttrain-error:0.011253\n",
            "[39]\ttest-error:0.067466\ttrain-error:0.010878\n",
            "[40]\ttest-error:0.071964\ttrain-error:0.010503\n",
            "[41]\ttest-error:0.068966\ttrain-error:0.009752\n",
            "[42]\ttest-error:0.070465\ttrain-error:0.010128\n",
            "[43]\ttest-error:0.067466\ttrain-error:0.008627\n",
            "[44]\ttest-error:0.068966\ttrain-error:0.007502\n",
            "[45]\ttest-error:0.070465\ttrain-error:0.008627\n",
            "[46]\ttest-error:0.070465\ttrain-error:0.007127\n",
            "[47]\ttest-error:0.067466\ttrain-error:0.005626\n",
            "[48]\ttest-error:0.067466\ttrain-error:0.006002\n",
            "[49]\ttest-error:0.068966\ttrain-error:0.005626\n"
          ],
          "name": "stdout"
        }
      ]
    },
    {
      "cell_type": "markdown",
      "metadata": {
        "id": "GisIKLo3WWF6"
      },
      "source": [
        "Прогнозы для тестовой выборки"
      ]
    },
    {
      "cell_type": "code",
      "metadata": {
        "id": "oaoukeqpWQh8"
      },
      "source": [
        "preds_prob = xgb_model.predict(dtest)"
      ],
      "execution_count": 12,
      "outputs": []
    },
    {
      "cell_type": "markdown",
      "metadata": {
        "id": "FNQ65rOJWpwU"
      },
      "source": [
        "Посчитаем долю правильных ответов алгоритма на тестовой выборке."
      ]
    },
    {
      "cell_type": "code",
      "metadata": {
        "colab": {
          "base_uri": "https://localhost:8080/"
        },
        "id": "bxVAGWSdWoP8",
        "outputId": "3fd5e409-93cc-4154-d19a-508a92268725"
      },
      "source": [
        "predicted_labels = preds_prob > 0.5\n",
        "print(\n",
        "    \"Accuracy and F1 on the test set are: {} and {}\".format(\n",
        "        round(accuracy_score(y_test, predicted_labels), 3),\n",
        "        round(f1_score(y_test, predicted_labels), 3),\n",
        "    )\n",
        ")"
      ],
      "execution_count": 13,
      "outputs": [
        {
          "output_type": "stream",
          "text": [
            "Accuracy and F1 on the test set are: 0.931 and 0.736\n"
          ],
          "name": "stdout"
        }
      ]
    },
    {
      "cell_type": "markdown",
      "metadata": {
        "id": "jxpL4blMYbNF"
      },
      "source": [
        "### Задача поиграться с параметрами для нахождение наилучшего результата.\n",
        "\n",
        "Параметры:\n",
        "\n",
        "- \"num_round\": 100,\n",
        "- \"learning_rate\": hp.quniform(\"eta\", 0.005, 0.05, 0.005),\n",
        "- \"max_depth\": hp.quniform(\"max_depth\", 3, 14, 1),\n",
        "- \"min_child_weight\": hp.quniform(\"min_child_weight\", 1, 10, 1),\n",
        "- \"subsample\": hp.quniform(\"subsample\", 0.5, 1, 0.05),\n",
        "- \"gamma\": hp.quniform(\"gamma\", 0.5, 1, 0.01),\n",
        "- \"colsample_bytree\": hp.quniform(\"colsample_bytree\", 0.4, 1, 0.05),\n",
        "- \"num_class\": 7,\n",
        "- \"eval_metric\": \"merror\",\n",
        "- \"objective\": \"multi:softprob\",\n",
        "- \"nthread\": 4,\n",
        "- \"silent\": 1,"
      ]
    },
    {
      "cell_type": "code",
      "metadata": {
        "id": "-f6ElZcSWvBo"
      },
      "source": [
        ""
      ],
      "execution_count": null,
      "outputs": []
    }
  ]
}